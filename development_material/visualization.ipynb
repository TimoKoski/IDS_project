{
 "cells": [
  {
   "cell_type": "code",
   "execution_count": null,
   "id": "c5bb05e6-fce4-4a59-b15b-4b86e3e34be5",
   "metadata": {},
   "outputs": [],
   "source": [
    "import geopandas as gpd # for countries\n",
    "import pandas as pd\n",
    "import json\n",
    "\n",
    "# link: https://www.naturalearthdata.com/downloads/110m-cultural-vectors/# here click \"download land\" to get, among other files, the shapefile used to show the different countries on the map\n",
    "# store the downloaded data in the same directory as this notebook\n",
    "shapefile = 'ne_110m_admin_0_countries_lakes.shp'\n",
    "\n",
    "# read shapefile using Geopandas\n",
    "countries = gpd.read_file(shapefile)[['ADMIN', 'ADM0_A3', 'geometry']]\n",
    "countries\n",
    "\n",
    "# rename columns\n",
    "countries.columns = ['country', 'country_code', 'geometry']\n",
    "countries\n",
    "\n",
    "year = 0\n",
    "while (year < 1900 or year > 2021):\n",
    "    year = int(input(\"Please type in for which year (between 1900 and 2020) you would like to see the shares of renewable energy:\"))\n"
   ]
  },
  {
   "cell_type": "code",
   "execution_count": null,
   "id": "2ae6f2cc-a2a5-426c-a440-9a530c5b894a",
   "metadata": {},
   "outputs": [],
   "source": [
    "with open('energy.csv', 'r') as energy_csv:\n",
    "    energy = pd.read_csv(energy_csv)\n",
    "energy_2020 = energy [energy['year'] == year] #while testing year was set to 2020 thus the name of the variable\n",
    "#energy_2020 = energy_2020.dropna(axis=1)\n",
    "energy_2020"
   ]
  },
  {
   "cell_type": "code",
   "execution_count": null,
   "id": "5359e963-aa9f-48dd-92a6-703bf73e96e8",
   "metadata": {},
   "outputs": [],
   "source": [
    "energy_2020 = energy_2020[['iso_code', 'country', 'renewables_share_elec']]\n",
    "energy_2020"
   ]
  },
  {
   "cell_type": "code",
   "execution_count": null,
   "id": "51e9cf8e-aff1-4ccd-bbdd-bced8c67a196",
   "metadata": {},
   "outputs": [],
   "source": [
    "# merging energy_2020 and countries\n",
    "c_e2020 = countries.merge(energy_2020, left_on='country_code', right_on='iso_code')\n",
    "\n",
    "# removing redundant columns\n",
    "c_e2020 = c_e2020.drop(['country_y', 'country_code'], axis=1)\n",
    "c_e2020"
   ]
  },
  {
   "cell_type": "code",
   "execution_count": null,
   "id": "1771de95-9d86-480f-9ed2-8efbf85337e0",
   "metadata": {},
   "outputs": [],
   "source": [
    "# preparation for visualizsation:\n",
    "\n",
    "c_e2020_json = json.loads(c_e2020.to_json())\n"
   ]
  },
  {
   "cell_type": "code",
   "execution_count": null,
   "id": "402f135f-2c87-4e99-8d6d-bebe6d6f7ef6",
   "metadata": {
    "tags": []
   },
   "outputs": [],
   "source": [
    "import folium\n",
    "\n",
    "m = folium.Map(location=[50, 0], zoom_start=1.4)\n",
    "\n",
    "folium.Choropleth(\n",
    "    geo_data = c_e2020_json,\n",
    "    data = c_e2020,\n",
    "    columns=[\"iso_code\", \"renewables_share_elec\"],\n",
    "    key_on=\"feature.properties.code\",\n",
    "    fill_color=\"YlGn\",\n",
    "    fill_opacity=0.7,\n",
    "    line_opacity=0.2,\n",
    "    legend_name=\"renewable energy share(%)\",\n",
    ").add_to(m)\n",
    "\n",
    "folium.LayerControl().add_to(m)\n",
    "\n",
    "m.save(\"map.html\")\n",
    "m"
   ]
  },
  {
   "cell_type": "code",
   "execution_count": null,
   "id": "2f0d4e4a-8ef6-4047-946d-c8d29d5ae226",
   "metadata": {},
   "outputs": [],
   "source": [
    "#drawing the graph for a specific country of interest:\n",
    "import IDS_group_notebook \n",
    "\n",
    "c_o_i = input(\"For which country would you like to see the development of the share of renewable energy and of recycled paper:\") # c_o_i = country of interest\n",
    "while (not c_o_i in list(c_e2020[\"country_x\"])):\n",
    "    print(\"Sorry, the country name you put in is invalid. A valid input would be e.g. 'Finland'. \\nTry again: \")\n",
    "    c_o_i = input(\" For which 'country would you like to see the development of the share of renewable energy and of recycled paper:\") # c_o_i = country of interest\n",
    "\n",
    "IDS_group_notebook.share_renewable(c_o_i)    "
   ]
  },
  {
   "cell_type": "code",
   "execution_count": null,
   "id": "2699cac3-7a96-4fe4-8593-c872e0135774",
   "metadata": {},
   "outputs": [],
   "source": [
    "\n"
   ]
  }
 ],
 "metadata": {
  "kernelspec": {
   "display_name": "Python 3",
   "language": "python",
   "name": "python3"
  },
  "language_info": {
   "codemirror_mode": {
    "name": "ipython",
    "version": 3
   },
   "file_extension": ".py",
   "mimetype": "text/x-python",
   "name": "python",
   "nbconvert_exporter": "python",
   "pygments_lexer": "ipython3",
   "version": "3.9.2"
  }
 },
 "nbformat": 4,
 "nbformat_minor": 5
}
